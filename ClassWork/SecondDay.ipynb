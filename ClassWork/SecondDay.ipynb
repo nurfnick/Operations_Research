{
  "nbformat": 4,
  "nbformat_minor": 0,
  "metadata": {
    "colab": {
      "provenance": [],
      "authorship_tag": "ABX9TyM9XUspQ2sB1IWzmPCKSC3w",
      "include_colab_link": true
    },
    "kernelspec": {
      "name": "python3",
      "display_name": "Python 3"
    },
    "language_info": {
      "name": "python"
    }
  },
  "cells": [
    {
      "cell_type": "markdown",
      "metadata": {
        "id": "view-in-github",
        "colab_type": "text"
      },
      "source": [
        "<a href=\"https://colab.research.google.com/github/nurfnick/Operations_Research/blob/main/ClassWork/SecondDay.ipynb\" target=\"_parent\"><img src=\"https://colab.research.google.com/assets/colab-badge.svg\" alt=\"Open In Colab\"/></a>"
      ]
    },
    {
      "cell_type": "code",
      "execution_count": null,
      "metadata": {
        "colab": {
          "base_uri": "https://localhost:8080/"
        },
        "id": "4yFEw1xscQ_0",
        "outputId": "3b4ceb7f-d80a-47ec-c99d-6414f6ae30f1"
      },
      "outputs": [
        {
          "output_type": "execute_result",
          "data": {
            "text/plain": [
              "41.40962210927086"
            ]
          },
          "metadata": {},
          "execution_count": 15
        }
      ],
      "source": [
        "from math import asin, sqrt, pi\n",
        "\n",
        "\n",
        "asin(sqrt(7)/4)*180/math.pi"
      ]
    },
    {
      "cell_type": "code",
      "metadata": {
        "colab": {
          "base_uri": "https://localhost:8080/"
        },
        "id": "82522b7c",
        "outputId": "1f571f90-a9b4-4605-f9c8-87b9a7f5d63a"
      },
      "source": [
        "from sympy import symbols, solve, sqrt\n",
        "\n",
        "# Define the variables\n",
        "x, y = symbols('x y')\n",
        "\n",
        "# Define the equations\n",
        "eq1 = x/y - 4/3\n",
        "eq2 = x/(3-y) - sqrt(7)/3\n",
        "\n",
        "# Solve the system of equations\n",
        "solutions = solve((eq1, eq2), (x, y))\n",
        "\n",
        "# Print the solutions\n",
        "print(solutions)\n",
        "\n",
        "solutions[x]/solutions[y] == 4/3\n",
        "\n",
        "solutions[x]/(3-solutions[y]) == math.sqrt(7)/3"
      ],
      "execution_count": null,
      "outputs": [
        {
          "output_type": "stream",
          "name": "stdout",
          "text": [
            "{x: 1.59244677522594, y: 1.19433508141945}\n"
          ]
        },
        {
          "output_type": "execute_result",
          "data": {
            "text/plain": [
              "True"
            ]
          },
          "metadata": {},
          "execution_count": 13
        }
      ]
    },
    {
      "cell_type": "code",
      "source": [
        "result = (4 * 400 * 0.80) + (2 * 400 * 0.75)\n",
        "print(result)"
      ],
      "metadata": {
        "colab": {
          "base_uri": "https://localhost:8080/"
        },
        "id": "rcdeUwUju29V",
        "outputId": "f5b4ab89-766c-4051-8679-6447f477d700"
      },
      "execution_count": 1,
      "outputs": [
        {
          "output_type": "stream",
          "name": "stdout",
          "text": [
            "1880.0\n"
          ]
        }
      ]
    },
    {
      "cell_type": "code",
      "source": [
        "400*.80*5"
      ],
      "metadata": {
        "colab": {
          "base_uri": "https://localhost:8080/"
        },
        "id": "W_3VP2cawFY4",
        "outputId": "c25767fd-7011-48e5-f621-77479fffcb87"
      },
      "execution_count": 3,
      "outputs": [
        {
          "output_type": "execute_result",
          "data": {
            "text/plain": [
              "1600.0"
            ]
          },
          "metadata": {},
          "execution_count": 3
        }
      ]
    },
    {
      "cell_type": "code",
      "source": [
        "# For a fixed perimeter, the maximum area of a rectangle is achieved when it is a square.\n",
        "perimeter = 100\n",
        "side_length = perimeter / 4\n",
        "maximum_area = side_length**2\n",
        "\n",
        "print(f\"The maximum area of a rectangular garden with a perimeter of {perimeter} ft is {maximum_area} sq ft.\")"
      ],
      "metadata": {
        "colab": {
          "base_uri": "https://localhost:8080/"
        },
        "id": "mPbVy4YkyvYk",
        "outputId": "131f62ba-48ed-4a6f-d1b3-4a3126302cf5"
      },
      "execution_count": 4,
      "outputs": [
        {
          "output_type": "stream",
          "name": "stdout",
          "text": [
            "The maximum area of a rectangular garden with a perimeter of 100 ft is 625.0 sq ft.\n"
          ]
        }
      ]
    },
    {
      "cell_type": "code",
      "source": [
        "import math\n",
        "\n",
        "2500/math.pi"
      ],
      "metadata": {
        "colab": {
          "base_uri": "https://localhost:8080/"
        },
        "id": "yP0LaQab2H78",
        "outputId": "5da34045-396c-456d-c422-a023c09570fe"
      },
      "execution_count": 5,
      "outputs": [
        {
          "output_type": "execute_result",
          "data": {
            "text/plain": [
              "795.7747154594767"
            ]
          },
          "metadata": {},
          "execution_count": 5
        }
      ]
    },
    {
      "cell_type": "code",
      "source": [
        "import math\n",
        "\n",
        "# Perimeter of both the square and the circle\n",
        "perimeter = 100\n",
        "\n",
        "# Area of the square (calculated in a previous cell)\n",
        "square_area = (perimeter / 4)**2\n",
        "\n",
        "# Radius of the circle with a circumference of 100\n",
        "circle_radius = perimeter / (2 * math.pi)\n",
        "\n",
        "# Area of the circle\n",
        "circle_area = math.pi * (circle_radius**2)\n",
        "\n",
        "# Percent change in area from square to circle\n",
        "percent_change = ((circle_area - square_area) / square_area) * 100\n",
        "\n",
        "print(f\"The area of the square is: {square_area:.2f} sq ft\")\n",
        "print(f\"The area of the circle is: {circle_area:.2f} sq ft\")\n",
        "print(f\"The percent change in area from square to circle is: {percent_change:.2f}%\")"
      ],
      "metadata": {
        "colab": {
          "base_uri": "https://localhost:8080/"
        },
        "id": "PLCQCsHT2gd0",
        "outputId": "cf767b37-4682-405f-e1fe-ada2271abb6a"
      },
      "execution_count": 6,
      "outputs": [
        {
          "output_type": "stream",
          "name": "stdout",
          "text": [
            "The area of the square is: 625.00 sq ft\n",
            "The area of the circle is: 795.77 sq ft\n",
            "The percent change in area from square to circle is: 27.32%\n"
          ]
        }
      ]
    },
    {
      "cell_type": "code",
      "source": [
        "from sympy import symbols, solve\n",
        "\n",
        "# Let the two-digit number be represented as 10*t + u, where t is the tens digit and u is the units digit.\n",
        "# The reversed number is 10*u + t.\n",
        "# The sum of the two numbers is 121.\n",
        "\n",
        "# Define the variables\n",
        "t, u = symbols('t u')\n",
        "\n",
        "# Define the equation\n",
        "# The sum of the original number (10t + u) and the reversed number (10u + t) is 121\n",
        "eq = (10*t + u) + (10*u + t) - 121\n",
        "\n",
        "# Solve the equation for t and u\n",
        "# We also know that t and u are integers between 0 and 9 (t cannot be 0 for a two-digit number)\n",
        "# We can simplify the equation first: 11t + 11u = 121, which simplifies to t + u = 11\n",
        "# We need to find integer solutions for t and u where 1 <= t <= 9 and 0 <= u <= 9 and t + u = 11.\n",
        "\n",
        "# Possible pairs (t, u) that sum to 11 are:\n",
        "# (2, 9), (3, 8), (4, 7), (5, 6), (6, 5), (7, 4), (8, 3), (9, 2)\n",
        "\n",
        "# Let's use sympy to solve the simplified equation and then filter for valid digits.\n",
        "simplified_eq = t + u - 11\n",
        "solutions = solve(simplified_eq, (t, u))\n",
        "\n",
        "# The solution from sympy is a general solution. We need to find integer solutions within the constraints.\n",
        "# We can iterate through possible values of t (1 to 9) and check if u is an integer between 0 and 9.\n",
        "original_number = None\n",
        "for t_val in range(1, 10):\n",
        "    u_val = 11 - t_val\n",
        "    if 0 <= u_val <= 9:\n",
        "        # Check if the sum of the original number and reversed number is 121\n",
        "        original_num_check = 10 * t_val + u_val\n",
        "        reversed_num_check = 10 * u_val + t_val\n",
        "        if original_num_check + reversed_num_check == 121:\n",
        "            original_number = original_num_check\n",
        "            break # Found the solution\n",
        "\n",
        "print(f\"The original number is: {original_number}\")"
      ],
      "metadata": {
        "id": "Mxbg9Tcp8LsZ"
      },
      "execution_count": null,
      "outputs": []
    }
  ]
}