{
  "nbformat": 4,
  "nbformat_minor": 0,
  "metadata": {
    "colab": {
      "provenance": [],
      "authorship_tag": "ABX9TyO3UhQLTaPNP1ntXoR4LMgH",
      "include_colab_link": true
    },
    "kernelspec": {
      "name": "python3",
      "display_name": "Python 3"
    },
    "language_info": {
      "name": "python"
    }
  },
  "cells": [
    {
      "cell_type": "markdown",
      "metadata": {
        "id": "view-in-github",
        "colab_type": "text"
      },
      "source": [
        "<a href=\"https://colab.research.google.com/github/nurfnick/Operations_Research/blob/main/ClassWork/FirstDay.ipynb\" target=\"_parent\"><img src=\"https://colab.research.google.com/assets/colab-badge.svg\" alt=\"Open In Colab\"/></a>"
      ]
    },
    {
      "cell_type": "code",
      "execution_count": 15,
      "metadata": {
        "colab": {
          "base_uri": "https://localhost:8080/"
        },
        "id": "4yFEw1xscQ_0",
        "outputId": "3b4ceb7f-d80a-47ec-c99d-6414f6ae30f1"
      },
      "outputs": [
        {
          "output_type": "execute_result",
          "data": {
            "text/plain": [
              "41.40962210927086"
            ]
          },
          "metadata": {},
          "execution_count": 15
        }
      ],
      "source": [
        "from math import asin, sqrt, pi\n",
        "\n",
        "\n",
        "asin(sqrt(7)/4)*180/math.pi"
      ]
    },
    {
      "cell_type": "code",
      "metadata": {
        "colab": {
          "base_uri": "https://localhost:8080/"
        },
        "id": "82522b7c",
        "outputId": "1f571f90-a9b4-4605-f9c8-87b9a7f5d63a"
      },
      "source": [
        "from sympy import symbols, solve, sqrt\n",
        "\n",
        "# Define the variables\n",
        "x, y = symbols('x y')\n",
        "\n",
        "# Define the equations\n",
        "eq1 = x/y - 4/3\n",
        "eq2 = x/(3-y) - sqrt(7)/3\n",
        "\n",
        "# Solve the system of equations\n",
        "solutions = solve((eq1, eq2), (x, y))\n",
        "\n",
        "# Print the solutions\n",
        "print(solutions)\n",
        "\n",
        "solutions[x]/solutions[y] == 4/3\n",
        "\n",
        "solutions[x]/(3-solutions[y]) == math.sqrt(7)/3"
      ],
      "execution_count": 13,
      "outputs": [
        {
          "output_type": "stream",
          "name": "stdout",
          "text": [
            "{x: 1.59244677522594, y: 1.19433508141945}\n"
          ]
        },
        {
          "output_type": "execute_result",
          "data": {
            "text/plain": [
              "True"
            ]
          },
          "metadata": {},
          "execution_count": 13
        }
      ]
    }
  ]
}